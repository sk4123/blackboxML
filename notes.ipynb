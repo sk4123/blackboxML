{
 "cells": [
  {
   "cell_type": "code",
   "execution_count": null,
   "metadata": {},
   "outputs": [],
   "source": [
    "# If saving the time stamps as metadata, this is how to access them (allegedly). Could also go frame by frame\n",
    "# Edit metadata - https://github.com/kennethleungty/Image-Metadata-Exif\n",
    "\n",
    "import cv2\n",
    "\n",
    "cap = cv2.VideoCapture('vancouver2.mp4')\n",
    "fps = cap.get(cv2.CAP_PROP_FPS)\n",
    "\n",
    "timestamps = [cap.get(cv2.CAP_PROP_POS_MSEC)]\n",
    "calc_timestamps = [0.0]\n",
    "\n",
    "while(cap.isOpened()):\n",
    "    frame_exists, curr_frame = cap.read()\n",
    "    if frame_exists:\n",
    "        timestamps.append(cap.get(cv2.CAP_PROP_POS_MSEC))\n",
    "        calc_timestamps.append(calc_timestamps[-1] + 1000/fps)\n",
    "    else:\n",
    "        break\n",
    "\n",
    "cap.release()\n",
    "\n",
    "for i, (ts, cts) in enumerate(zip(timestamps, calc_timestamps)):\n",
    "    print('Frame %d difference:'%i, abs(ts - cts))"
   ]
  },
  {
   "cell_type": "code",
   "execution_count": null,
   "metadata": {},
   "outputs": [],
   "source": [
    "# Extract metadata from an image - https://github.com/kennethleungty/Image-Metadata-Exif/blob/main/Image_Metadata_Extraction_EXIF.ipynb\n",
    "import numpy as np\n",
    "import pandas as pd\n",
    "import matplotlib.pyplot as plt\n",
    "import os\n",
    "import time\n",
    "\n",
    "import cv2\n",
    "from exif import Image\n",
    "\n",
    "# Define image path\n",
    "home_dir = \"C:/Users/Alex/Desktop/blackboxML\"\n",
    "folder_path = f\"{home_dir}/images/test\"\n",
    "img_filename = \"image_1.jpg\"\n",
    "img_path = f'{folder_path}/{img_filename}'\n",
    "\n",
    "img = cv2.imread(img_path)\n",
    "img = cv2.cvtColor(img, cv2.COLOR_BGR2RGB)\n",
    "plt.rcParams[\"figure.figsize\"] = (20,10)\n",
    "plt.axis('off')\n",
    "plt.imshow(img)\n",
    "\n",
    "with open(img_path, 'rb') as img_file:\n",
    "    img = Image(img_file)\n",
    "\n",
    "sorted(img.list_all())"
   ]
  },
  {
   "cell_type": "code",
   "execution_count": null,
   "metadata": {},
   "outputs": [],
   "source": [
    "'''\n",
    "Dial process:\n",
    "Grab the folder full of images\n",
    "Extract the metadata, save frame, timestamp, and gps coordinates to table\n",
    "For each detected dial, run it through the respective reshaping function, determine the reading, and save it to its own column in the table. If nothing detected, -1\n",
    "Turn this table into some file\n",
    "'''\n",
    "\n",
    "\n",
    "'''\n",
    "Stick process:\n",
    "Grab the folder full of images\n",
    "Extract the metadata, save frame, timestamp, and gps coordinates to table\n",
    "For each image, save the x and y positions. If nothing, -1\n",
    "Turn this table into some file\n",
    "'''"
   ]
  }
 ],
 "metadata": {
  "language_info": {
   "name": "python"
  }
 },
 "nbformat": 4,
 "nbformat_minor": 2
}
